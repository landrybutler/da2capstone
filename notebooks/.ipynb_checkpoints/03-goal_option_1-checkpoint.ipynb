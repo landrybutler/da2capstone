{
 "cells": [
  {
   "cell_type": "code",
   "execution_count": 1,
   "metadata": {},
   "outputs": [],
   "source": [
    "# import libraries\n",
    "import pandas as pd\n",
    "import matplotlib.pyplot as plt\n",
    "import seaborn as sns\n",
    "import numpy as np"
   ]
  },
  {
   "cell_type": "code",
   "execution_count": 20,
   "metadata": {},
   "outputs": [],
   "source": [
    "# import and set up dataframes\n",
    "\n",
    "# tennessee_outpatient.to_csv('../data/tennessee_outpatient_clean.csv')\n",
    "# nashville_outpatient.to_csv('../data/nashville_outpatient_clean.csv')\n",
    "# tennessee_providers.to_csv('../data/tennessee_providers_clean.csv')\n",
    "# nashville_providers.to_csv('../data/nashville_providers_clean.csv')\n",
    "\n",
    "cbsa = pd.read_excel('../data/ZIP_CBSA_032020.xlsx') \n",
    "\n",
    "#   Outpatients\n",
    "tennessee_outpatient_clean = pd.read_csv('../data/tennessee_outpatient_clean.csv', low_memory=False)\n",
    "# nashville_outpatient_clean = pd.read_csv('../data/nashville_outpatient_clean.csv')\n",
    "# nyc_outpatient_clean = pd.read_csv('../data/nyc_outpatient_clean.csv')\n",
    "# la_outpatient_clean = pd.read_csv('../data/la_outpatient_clean.csv')\n",
    "\n",
    "#   Providers\n",
    "tennessee_providers_clean = pd.read_csv('../data/tennessee_providers_clean.csv', )\n",
    "# nashville_providers_clean = pd.read_csv('../data/nashville_providers_clean.csv')\n",
    "# nyc_providers_clean = pd.read_csv('../data/nyc_providers_clean.csv')\n",
    "# la_providers_clean = pd.read_csv('../data/la_providers_clean.csv')\n"
   ]
  },
  {
   "cell_type": "code",
   "execution_count": 21,
   "metadata": {
    "scrolled": true
   },
   "outputs": [
    {
     "name": "stdout",
     "output_type": "stream",
     "text": [
      "<class 'pandas.core.frame.DataFrame'>\n",
      "RangeIndex: 47417 entries, 0 to 47416\n",
      "Data columns (total 23 columns):\n",
      "Unnamed: 0                                   47417 non-null int64\n",
      "provider_id                                  79 non-null float64\n",
      "provider_name                                79 non-null object\n",
      "provider_street_address                      79 non-null object\n",
      "provider_city                                79 non-null object\n",
      "provider_state                               79 non-null object\n",
      "provider_zip_code                            79 non-null float64\n",
      "provider_hospital_referral_region_(hrr)      79 non-null object\n",
      "apc                                          79 non-null float64\n",
      "apc_description                              79 non-null object\n",
      "beneficiaries                                77 non-null float64\n",
      "comprehensive_apc_services                   79 non-null float64\n",
      "average_estimated_total_submitted_charges    79 non-null float64\n",
      "average_medicare_allowed_amount              79 non-null float64\n",
      "average_medicare_payment_amount              79 non-null float64\n",
      "outlier_comprehensive_apc_services           73 non-null float64\n",
      "average_medicare_outlier_amount              73 non-null float64\n",
      "zip                                          47417 non-null int64\n",
      "cbsa                                         47417 non-null int64\n",
      "res_ratio                                    47417 non-null float64\n",
      "bus_ratio                                    47417 non-null float64\n",
      "oth_ratio                                    47417 non-null float64\n",
      "tot_ratio                                    47417 non-null float64\n",
      "dtypes: float64(14), int64(3), object(6)\n",
      "memory usage: 8.3+ MB\n"
     ]
    }
   ],
   "source": [
    "tennessee_outpatient_clean.info()"
   ]
  },
  {
   "cell_type": "code",
   "execution_count": 22,
   "metadata": {},
   "outputs": [
    {
     "name": "stdout",
     "output_type": "stream",
     "text": [
      "<class 'pandas.core.frame.DataFrame'>\n",
      "RangeIndex: 47425 entries, 0 to 47424\n",
      "Data columns (total 33 columns):\n",
      "Unnamed: 0                          47425 non-null int64\n",
      "npi                                 10 non-null float64\n",
      "nppes_provider_last_org_name        10 non-null object\n",
      "nppes_provider_first_name           0 non-null float64\n",
      "nppes_provider_mi                   0 non-null float64\n",
      "nppes_credentials                   0 non-null float64\n",
      "nppes_provider_gender               0 non-null float64\n",
      "nppes_entity_code                   10 non-null object\n",
      "nppes_provider_street1              10 non-null object\n",
      "nppes_provider_street2              2 non-null object\n",
      "nppes_provider_city                 10 non-null object\n",
      "nppes_provider_zip                  10 non-null float64\n",
      "nppes_provider_state                10 non-null object\n",
      "nppes_provider_country              10 non-null object\n",
      "provider_type                       10 non-null object\n",
      "medicare_participation_indicator    10 non-null object\n",
      "place_of_service                    10 non-null object\n",
      "hcpcs_code                          10 non-null float64\n",
      "hcpcs_description                   10 non-null object\n",
      "hcpcs_drug_indicator                10 non-null object\n",
      "line_srvc_cnt                       10 non-null float64\n",
      "bene_unique_cnt                     10 non-null float64\n",
      "bene_day_srvc_cnt                   10 non-null float64\n",
      "average_medicare_allowed_amt        10 non-null float64\n",
      "average_submitted_chrg_amt          10 non-null float64\n",
      "average_medicare_payment_amt        10 non-null float64\n",
      "average_medicare_standard_amt       10 non-null float64\n",
      "zip                                 47415 non-null float64\n",
      "cbsa                                47415 non-null float64\n",
      "res_ratio                           47415 non-null float64\n",
      "bus_ratio                           47415 non-null float64\n",
      "oth_ratio                           47415 non-null float64\n",
      "tot_ratio                           47415 non-null float64\n",
      "dtypes: float64(20), int64(1), object(12)\n",
      "memory usage: 11.9+ MB\n"
     ]
    }
   ],
   "source": [
    "tennessee_providers_clean.info()"
   ]
  },
  {
   "cell_type": "markdown",
   "metadata": {},
   "source": [
    "# Note\n",
    "This looks like a small data set for Nashville. Concerned that it was too small, I went back to 02-goal_option_1 and confirmed that this small set is correct. It is the set of outpatients filtered by APC = 5302."
   ]
  },
  {
   "cell_type": "code",
   "execution_count": 23,
   "metadata": {},
   "outputs": [],
   "source": [
    "# nashville_outpatient_clean"
   ]
  },
  {
   "cell_type": "markdown",
   "metadata": {},
   "source": [
    "# Convert zipcodes from float to int\n"
   ]
  },
  {
   "cell_type": "code",
   "execution_count": 24,
   "metadata": {},
   "outputs": [],
   "source": [
    "# drop NaN\n",
    "tennessee_providers_clean['nppes_provider_zip']\n",
    "\n",
    "tennessee_providers_clean = tennessee_providers_clean.dropna()\n",
    "\n",
    "\n",
    "# # tennessee_providers_clean['nppes_provider_zip'] = tennessee_providers_clean['nppes_provider_zip'].dropna()\n",
    "# # tennessee_outpatient_clean['provider_zip_code'] = tennessee_outpatient_clean['provider_zip_code'].dropna()\n",
    "\n",
    "# tennessee_providers_clean = pd.merge(left=tennessee_providers_clean, right=cbsa, left_on='nppes_provider_zip', right_on='ZIP', how='outer')\n",
    "# tennessee_outpatient_clean = pd.merge(left=tennessee_outpatient_clean, right=cbsa, left_on='provider_zip_code', right_on='ZIP', how='outer')\n",
    "\n",
    "# tennessee_outpatient_clean.info()"
   ]
  },
  {
   "cell_type": "code",
   "execution_count": 19,
   "metadata": {},
   "outputs": [
    {
     "data": {
      "text/plain": [
       "Series([], Name: nppes_provider_zip, dtype: float64)"
      ]
     },
     "execution_count": 19,
     "metadata": {},
     "output_type": "execute_result"
    }
   ],
   "source": [
    "# convert zipcodes from float to int\n",
    "# .astype(int)\n",
    "# tennessee_providers_clean['nppes_provider_zip'] = tennessee_providers_clean['nppes_provider_zip'].astype(int)\n",
    "# tennessee_outpatient_clean['provider_zip_code'] = tennessee_outpatient_clean['provider_zip_code'].astype(int)\n",
    "\n",
    "tennessee_providers_clean['nppes_provider_zip']\n",
    "# tennessee_outpatient_clean['provider_zip_code']\n",
    "\n",
    "# tennessee_outpatient_clean.info()"
   ]
  },
  {
   "cell_type": "markdown",
   "metadata": {},
   "source": [
    "# Get average_medicare_allowed_amount\n",
    "\n",
    "## NOTE: the Nashville dataframes are redundant as we're looking at Tenn by CBSA. They're included below, but we'll only use the Tennessee dataframes as Nashville is included"
   ]
  },
  {
   "cell_type": "code",
   "execution_count": 8,
   "metadata": {},
   "outputs": [],
   "source": [
    "# outpatient: average_medicare_allowed_amount\n",
    "# nashville_outpatient_amaa = nashville_outpatient_clean[['provider_zip_code', 'provider_name', 'average_medicare_allowed_amount']].sort_values('average_medicare_allowed_amount')\n",
    "# nashville_outpatient_amaa"
   ]
  },
  {
   "cell_type": "code",
   "execution_count": 9,
   "metadata": {},
   "outputs": [],
   "source": [
    "# provider: average_medicare_allowed_amount\n",
    "# nashville_providers_amaa = nashville_providers_clean[['cbsa', 'nppes_provider_zip', 'nppes_provider_last_org_name', 'average_medicare_allowed_amt']].sort_values('average_medicare_allowed_amt')\n",
    "# nashville_providers_amaa"
   ]
  },
  {
   "cell_type": "code",
   "execution_count": 10,
   "metadata": {
    "scrolled": true
   },
   "outputs": [
    {
     "data": {
      "text/html": [
       "<div>\n",
       "<style scoped>\n",
       "    .dataframe tbody tr th:only-of-type {\n",
       "        vertical-align: middle;\n",
       "    }\n",
       "\n",
       "    .dataframe tbody tr th {\n",
       "        vertical-align: top;\n",
       "    }\n",
       "\n",
       "    .dataframe thead th {\n",
       "        text-align: right;\n",
       "    }\n",
       "</style>\n",
       "<table border=\"1\" class=\"dataframe\">\n",
       "  <thead>\n",
       "    <tr style=\"text-align: right;\">\n",
       "      <th></th>\n",
       "      <th>cbsa</th>\n",
       "      <th>provider_zip_code</th>\n",
       "      <th>provider_name</th>\n",
       "      <th>average_medicare_allowed_amount</th>\n",
       "    </tr>\n",
       "  </thead>\n",
       "  <tbody>\n",
       "    <tr>\n",
       "      <td>16</td>\n",
       "      <td>34100</td>\n",
       "      <td>37814.0</td>\n",
       "      <td>Lakeway Regional Hospital</td>\n",
       "      <td>975.274615</td>\n",
       "    </tr>\n",
       "    <tr>\n",
       "      <td>50</td>\n",
       "      <td>46100</td>\n",
       "      <td>37334.0</td>\n",
       "      <td>Lincoln Medical Center</td>\n",
       "      <td>1031.270909</td>\n",
       "    </tr>\n",
       "    <tr>\n",
       "      <td>49</td>\n",
       "      <td>99999</td>\n",
       "      <td>37334.0</td>\n",
       "      <td>Lincoln Medical Center</td>\n",
       "      <td>1031.270909</td>\n",
       "    </tr>\n",
       "    <tr>\n",
       "      <td>51</td>\n",
       "      <td>43180</td>\n",
       "      <td>37334.0</td>\n",
       "      <td>Lincoln Medical Center</td>\n",
       "      <td>1031.270909</td>\n",
       "    </tr>\n",
       "    <tr>\n",
       "      <td>54</td>\n",
       "      <td>28940</td>\n",
       "      <td>37772.0</td>\n",
       "      <td>Fort Loudon Medical Center</td>\n",
       "      <td>1044.290000</td>\n",
       "    </tr>\n",
       "    <tr>\n",
       "      <td>...</td>\n",
       "      <td>...</td>\n",
       "      <td>...</td>\n",
       "      <td>...</td>\n",
       "      <td>...</td>\n",
       "    </tr>\n",
       "    <tr>\n",
       "      <td>47412</td>\n",
       "      <td>99999</td>\n",
       "      <td>NaN</td>\n",
       "      <td>NaN</td>\n",
       "      <td>NaN</td>\n",
       "    </tr>\n",
       "    <tr>\n",
       "      <td>47413</td>\n",
       "      <td>99999</td>\n",
       "      <td>NaN</td>\n",
       "      <td>NaN</td>\n",
       "      <td>NaN</td>\n",
       "    </tr>\n",
       "    <tr>\n",
       "      <td>47414</td>\n",
       "      <td>99999</td>\n",
       "      <td>NaN</td>\n",
       "      <td>NaN</td>\n",
       "      <td>NaN</td>\n",
       "    </tr>\n",
       "    <tr>\n",
       "      <td>47415</td>\n",
       "      <td>28540</td>\n",
       "      <td>NaN</td>\n",
       "      <td>NaN</td>\n",
       "      <td>NaN</td>\n",
       "    </tr>\n",
       "    <tr>\n",
       "      <td>47416</td>\n",
       "      <td>99999</td>\n",
       "      <td>NaN</td>\n",
       "      <td>NaN</td>\n",
       "      <td>NaN</td>\n",
       "    </tr>\n",
       "  </tbody>\n",
       "</table>\n",
       "<p>47417 rows × 4 columns</p>\n",
       "</div>"
      ],
      "text/plain": [
       "        cbsa  provider_zip_code               provider_name  \\\n",
       "16     34100            37814.0   Lakeway Regional Hospital   \n",
       "50     46100            37334.0      Lincoln Medical Center   \n",
       "49     99999            37334.0      Lincoln Medical Center   \n",
       "51     43180            37334.0      Lincoln Medical Center   \n",
       "54     28940            37772.0  Fort Loudon Medical Center   \n",
       "...      ...                ...                         ...   \n",
       "47412  99999                NaN                         NaN   \n",
       "47413  99999                NaN                         NaN   \n",
       "47414  99999                NaN                         NaN   \n",
       "47415  28540                NaN                         NaN   \n",
       "47416  99999                NaN                         NaN   \n",
       "\n",
       "       average_medicare_allowed_amount  \n",
       "16                          975.274615  \n",
       "50                         1031.270909  \n",
       "49                         1031.270909  \n",
       "51                         1031.270909  \n",
       "54                         1044.290000  \n",
       "...                                ...  \n",
       "47412                              NaN  \n",
       "47413                              NaN  \n",
       "47414                              NaN  \n",
       "47415                              NaN  \n",
       "47416                              NaN  \n",
       "\n",
       "[47417 rows x 4 columns]"
      ]
     },
     "execution_count": 10,
     "metadata": {},
     "output_type": "execute_result"
    }
   ],
   "source": [
    "# outpatient: average_medicare_allowed_amount\n",
    "tennessee_outpatient_amaa = tennessee_outpatient_clean[['cbsa', 'provider_zip_code', 'provider_name', 'average_medicare_allowed_amount']].sort_values('average_medicare_allowed_amount')\n",
    "tennessee_outpatient_amaa"
   ]
  },
  {
   "cell_type": "code",
   "execution_count": 11,
   "metadata": {
    "scrolled": false
   },
   "outputs": [
    {
     "data": {
      "text/html": [
       "<div>\n",
       "<style scoped>\n",
       "    .dataframe tbody tr th:only-of-type {\n",
       "        vertical-align: middle;\n",
       "    }\n",
       "\n",
       "    .dataframe tbody tr th {\n",
       "        vertical-align: top;\n",
       "    }\n",
       "\n",
       "    .dataframe thead th {\n",
       "        text-align: right;\n",
       "    }\n",
       "</style>\n",
       "<table border=\"1\" class=\"dataframe\">\n",
       "  <thead>\n",
       "    <tr style=\"text-align: right;\">\n",
       "      <th></th>\n",
       "      <th>cbsa</th>\n",
       "      <th>nppes_provider_zip</th>\n",
       "      <th>nppes_provider_last_org_name</th>\n",
       "      <th>average_medicare_allowed_amt</th>\n",
       "    </tr>\n",
       "  </thead>\n",
       "  <tbody>\n",
       "    <tr>\n",
       "      <td>7</td>\n",
       "      <td>NaN</td>\n",
       "      <td>385012454.0</td>\n",
       "      <td>Upper cumberland physicians surgery center llc</td>\n",
       "      <td>500.692923</td>\n",
       "    </tr>\n",
       "    <tr>\n",
       "      <td>0</td>\n",
       "      <td>NaN</td>\n",
       "      <td>378874200.0</td>\n",
       "      <td>Wartburg surgery center llc</td>\n",
       "      <td>512.000000</td>\n",
       "    </tr>\n",
       "    <tr>\n",
       "      <td>5</td>\n",
       "      <td>NaN</td>\n",
       "      <td>376603220.0</td>\n",
       "      <td>Holston valley ambulatory surgery center, llc</td>\n",
       "      <td>516.890000</td>\n",
       "    </tr>\n",
       "    <tr>\n",
       "      <td>4</td>\n",
       "      <td>NaN</td>\n",
       "      <td>379223355.0</td>\n",
       "      <td>Fort sanders west op surgery center</td>\n",
       "      <td>524.800000</td>\n",
       "    </tr>\n",
       "    <tr>\n",
       "      <td>2</td>\n",
       "      <td>NaN</td>\n",
       "      <td>372052013.0</td>\n",
       "      <td>Endoscopy center of st thomas lp</td>\n",
       "      <td>565.636471</td>\n",
       "    </tr>\n",
       "    <tr>\n",
       "      <td>...</td>\n",
       "      <td>...</td>\n",
       "      <td>...</td>\n",
       "      <td>...</td>\n",
       "      <td>...</td>\n",
       "    </tr>\n",
       "    <tr>\n",
       "      <td>47420</td>\n",
       "      <td>99999.0</td>\n",
       "      <td>NaN</td>\n",
       "      <td>NaN</td>\n",
       "      <td>NaN</td>\n",
       "    </tr>\n",
       "    <tr>\n",
       "      <td>47421</td>\n",
       "      <td>99999.0</td>\n",
       "      <td>NaN</td>\n",
       "      <td>NaN</td>\n",
       "      <td>NaN</td>\n",
       "    </tr>\n",
       "    <tr>\n",
       "      <td>47422</td>\n",
       "      <td>99999.0</td>\n",
       "      <td>NaN</td>\n",
       "      <td>NaN</td>\n",
       "      <td>NaN</td>\n",
       "    </tr>\n",
       "    <tr>\n",
       "      <td>47423</td>\n",
       "      <td>28540.0</td>\n",
       "      <td>NaN</td>\n",
       "      <td>NaN</td>\n",
       "      <td>NaN</td>\n",
       "    </tr>\n",
       "    <tr>\n",
       "      <td>47424</td>\n",
       "      <td>99999.0</td>\n",
       "      <td>NaN</td>\n",
       "      <td>NaN</td>\n",
       "      <td>NaN</td>\n",
       "    </tr>\n",
       "  </tbody>\n",
       "</table>\n",
       "<p>47425 rows × 4 columns</p>\n",
       "</div>"
      ],
      "text/plain": [
       "          cbsa  nppes_provider_zip  \\\n",
       "7          NaN         385012454.0   \n",
       "0          NaN         378874200.0   \n",
       "5          NaN         376603220.0   \n",
       "4          NaN         379223355.0   \n",
       "2          NaN         372052013.0   \n",
       "...        ...                 ...   \n",
       "47420  99999.0                 NaN   \n",
       "47421  99999.0                 NaN   \n",
       "47422  99999.0                 NaN   \n",
       "47423  28540.0                 NaN   \n",
       "47424  99999.0                 NaN   \n",
       "\n",
       "                         nppes_provider_last_org_name  \\\n",
       "7      Upper cumberland physicians surgery center llc   \n",
       "0                         Wartburg surgery center llc   \n",
       "5       Holston valley ambulatory surgery center, llc   \n",
       "4                 Fort sanders west op surgery center   \n",
       "2                    Endoscopy center of st thomas lp   \n",
       "...                                               ...   \n",
       "47420                                             NaN   \n",
       "47421                                             NaN   \n",
       "47422                                             NaN   \n",
       "47423                                             NaN   \n",
       "47424                                             NaN   \n",
       "\n",
       "       average_medicare_allowed_amt  \n",
       "7                        500.692923  \n",
       "0                        512.000000  \n",
       "5                        516.890000  \n",
       "4                        524.800000  \n",
       "2                        565.636471  \n",
       "...                             ...  \n",
       "47420                           NaN  \n",
       "47421                           NaN  \n",
       "47422                           NaN  \n",
       "47423                           NaN  \n",
       "47424                           NaN  \n",
       "\n",
       "[47425 rows x 4 columns]"
      ]
     },
     "execution_count": 11,
     "metadata": {},
     "output_type": "execute_result"
    }
   ],
   "source": [
    "tennessee_providers_amaa = tennessee_providers_clean[['cbsa','nppes_provider_zip', 'nppes_provider_last_org_name', 'average_medicare_allowed_amt']].sort_values('average_medicare_allowed_amt')\n",
    "tennessee_providers_amaa"
   ]
  },
  {
   "cell_type": "code",
   "execution_count": null,
   "metadata": {},
   "outputs": [],
   "source": [
    "\n",
    "\n"
   ]
  },
  {
   "cell_type": "markdown",
   "metadata": {},
   "source": [
    "# Save Dataframe\n",
    "\n",
    "s for further analysis"
   ]
  },
  {
   "cell_type": "code",
   "execution_count": null,
   "metadata": {},
   "outputs": [],
   "source": [
    "# # save clean dataframes\n",
    "tennessee_outpatient_amaa.to_csv('../data/tennessee_outpatient_amaa.csv')\n",
    "tennessee_providers_amaa.to_csv('../data/tennessee_providers_amaa.csv')\n",
    "# nashville_outpatient_amaa.to_csv('../data/nashville_outpatient_amaa.csv')\n",
    "# nashville_providers_amaa.to_csv('../data/nashville_providers_amaa.csv')\n"
   ]
  },
  {
   "cell_type": "code",
   "execution_count": null,
   "metadata": {},
   "outputs": [],
   "source": [
    "tennessee_outpatient_clean.to_csv('../data/tennessee_outpatient_filtered.csv')\n",
    "tennessee_providers_clean.to_csv('../data/tennessee_providers_filtered.csv')\n"
   ]
  },
  {
   "cell_type": "code",
   "execution_count": null,
   "metadata": {},
   "outputs": [],
   "source": []
  }
 ],
 "metadata": {
  "kernelspec": {
   "display_name": "Python 3",
   "language": "python",
   "name": "python3"
  },
  "language_info": {
   "codemirror_mode": {
    "name": "ipython",
    "version": 3
   },
   "file_extension": ".py",
   "mimetype": "text/x-python",
   "name": "python",
   "nbconvert_exporter": "python",
   "pygments_lexer": "ipython3",
   "version": "3.7.4"
  }
 },
 "nbformat": 4,
 "nbformat_minor": 2
}
