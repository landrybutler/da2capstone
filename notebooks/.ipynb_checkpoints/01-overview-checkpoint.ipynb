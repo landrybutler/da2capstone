{
 "cells": [
  {
   "cell_type": "markdown",
   "metadata": {},
   "source": [
    "# Landry BlueBook\n",
    "This is the notebook for my Project BlueBook code"
   ]
  },
  {
   "cell_type": "markdown",
   "metadata": {},
   "source": [
    "# What's working?\n",
    "\n",
    "- imported libraries<br>\n",
    "- imported all .csv files, even the one that was really a .tsv<br>\n",
    "- combined classification files into one dataframe<br>\n",
    "- removed trailing spaces from classification dataframe keys\n",
    "- lowercased ,removed spaces and \\n from column titles"
   ]
  },
  {
   "cell_type": "markdown",
   "metadata": {},
   "source": [
    "# What's not working?\n",
    "\n",
    "- "
   ]
  },
  {
   "cell_type": "code",
   "execution_count": null,
   "metadata": {},
   "outputs": [],
   "source": [
    "# import libraries\n",
    "import pandas as pd\n",
    "import matplotlib.pyplot as plt\n",
    "import seaborn as sns\n",
    "import numpy as np"
   ]
  },
  {
   "cell_type": "code",
   "execution_count": null,
   "metadata": {},
   "outputs": [],
   "source": [
    "# set up dataframes\n",
    "#   absolute path: /Users/landrybutler/github/healthcare-bluebook-project-bluebook/data/my_file.csv\n",
    "#   relative path: ../data/my_file.csv\n",
    "\n",
    "# paths to files\n",
    "#     NOTE: providers_csv is too large to store in git. It's kept outside this project folder in 'oversized_files'\n",
    "providers_tsv = '/Users/landrybutler/github/oversized_files/Medicare_Provider_Util_Payment_PUF_CY2017.tsv'\n",
    "outpatient_csv = '../data/MUP_OHP_R19_P04_V10_D17_APC_Provider.csv'\n",
    "classification1_csv = '../data/508-Compliant-Version-of-2020_january_web_addendum_b.12312019.csv'\n",
    "classification2_csv = '../data/2020_january_web_addendum_b.12312019.csv'\n",
    "cbsa_csv = '../data/ZIP_CBSA_032020.csv'\n",
    "\n",
    "# NOTE: providers_csv is a TAB-DELIMITED file, Use sep='\\t'\n",
    "providers = pd.read_csv(providers_tsv, sep='\\t', low_memory=False) \n",
    "outpatient = pd.read_csv(outpatient_csv, low_memory=False) \n",
    "classification1 = pd.read_csv(classification1_csv) \n",
    "classification2 = pd.read_csv(classification2_csv) \n",
    "cbsa = pd.read_csv(cbsa_csv) \n",
    "\n",
    "# NOTE: the first line in providers_tsv is copyright info\n",
    "providers.head()"
   ]
  },
  {
   "cell_type": "code",
   "execution_count": null,
   "metadata": {},
   "outputs": [],
   "source": [
    "providers.info()\n",
    "# providers[['provider_type']]"
   ]
  },
  {
   "cell_type": "code",
   "execution_count": null,
   "metadata": {},
   "outputs": [],
   "source": [
    "# how can I join the classification files? \n",
    "# look at df.head()\n",
    "\n",
    "classification1.head()"
   ]
  },
  {
   "cell_type": "code",
   "execution_count": null,
   "metadata": {},
   "outputs": [],
   "source": [
    "classification2.head()"
   ]
  },
  {
   "cell_type": "code",
   "execution_count": null,
   "metadata": {},
   "outputs": [],
   "source": [
    "# look at df.info()\n",
    "\n",
    "classification1.info()"
   ]
  },
  {
   "cell_type": "code",
   "execution_count": null,
   "metadata": {},
   "outputs": [],
   "source": [
    "classification2.info()"
   ]
  },
  {
   "cell_type": "markdown",
   "metadata": {},
   "source": [
    "NOTE: based on a quick examination of the head() and info(), it looks like these files are laid out in same manner:\n",
    "        - HCPS Code\n",
    "        - Short Descriptor\n",
    "        - SI\n",
    "        - APC\n",
    "        - Relative Weight\n",
    "        - Payment Rate\n",
    "        - National Unadjusted Copayment\n",
    "        - Minimum Unadjusted Copayment\n",
    "        - Column1 or Unnamed: 8\n",
    "        - Column2 or Unnamed: 9\n",
    "        - Column3 or Unnamed: 10\n",
    "            \n",
    "The range index and memory usage are the same for both files. I wonder if they countain duplicate info?"
   ]
  },
  {
   "cell_type": "code",
   "execution_count": null,
   "metadata": {},
   "outputs": [],
   "source": [
    "# Inner join on HCPS code will eliminate any duplicates\n",
    "# NOTE: Trailing spaces were found in column names, they're included below and will be removed later\n",
    "# memory usage after join only increased by 0.5 MB\n",
    "\n",
    "classifications = pd.merge(left=classification1, right=classification2, \n",
    "                           how='inner', \n",
    "                           on=['HCPCS Code','Short Descriptor','SI','APC ',\n",
    "                               'Relative Weight','Payment Rate ','National Unadjusted Copayment ',\n",
    "                              'Minimum Unadjusted Copayment '])\n",
    "classifications.info()"
   ]
  },
  {
   "cell_type": "code",
   "execution_count": null,
   "metadata": {},
   "outputs": [],
   "source": [
    "# Rename columns to remove trailing spaces\n",
    "# df.rename(columns=lambda x: x.strip())\n",
    "classifications = classifications.rename(columns=lambda x: x.strip())\n",
    "\n",
    "classifications.keys()"
   ]
  },
  {
   "cell_type": "code",
   "execution_count": null,
   "metadata": {},
   "outputs": [],
   "source": [
    "# Look at outpatient dataframe\n",
    "outpatient.info()"
   ]
  },
  {
   "cell_type": "code",
   "execution_count": null,
   "metadata": {},
   "outputs": [],
   "source": [
    "outpatient.head()"
   ]
  },
  {
   "cell_type": "code",
   "execution_count": null,
   "metadata": {},
   "outputs": [],
   "source": [
    "# column names contain newline characters, remove them\n",
    "# also convert spaces to underscores and make lowercase\n",
    "outpatient.columns = outpatient.columns.str.replace('\\n', '_').str.replace(' ', '_').str.lower()\n",
    "providers.columns = providers.columns.str.replace(' ', '_').str.lower()\n",
    "classifications.columns = classifications.columns.str.replace(' ', '_').str.lower()\n",
    "cbsa.columns = cbsa.columns.str.replace(' ', '_').str.lower()\n",
    "\n",
    "# providers.head()"
   ]
  },
  {
   "cell_type": "code",
   "execution_count": null,
   "metadata": {},
   "outputs": [],
   "source": []
  },
  {
   "cell_type": "code",
   "execution_count": null,
   "metadata": {},
   "outputs": [],
   "source": [
    "# Look at cbsa dataframe\n",
    "cbsa.info()"
   ]
  },
  {
   "cell_type": "code",
   "execution_count": null,
   "metadata": {},
   "outputs": [],
   "source": [
    "cbsa.head()"
   ]
  },
  {
   "cell_type": "code",
   "execution_count": null,
   "metadata": {},
   "outputs": [],
   "source": [
    "cbsa.shape"
   ]
  },
  {
   "cell_type": "markdown",
   "metadata": {},
   "source": [
    "cbsa dataframe appears to be std tabular data w/o any issues … so far"
   ]
  },
  {
   "cell_type": "code",
   "execution_count": null,
   "metadata": {},
   "outputs": [],
   "source": [
    "cbsa.tail()"
   ]
  },
  {
   "cell_type": "markdown",
   "metadata": {},
   "source": [
    "# Observations\n",
    "\n",
    "## Datafields in use\n",
    "<b>providers</b><br>\n",
    "    - Contains provider name and contact info, HPCS and cost info\n",
    "    - Joinability: 'HPCS Code' is common field with classifications\n",
    "    - Fields:\n",
    "       - npi\n",
    "       - nppes_provider_last_org_name\n",
    "       - nppes_provider_first_name\n",
    "       - nppes_provider_mi\n",
    "       - nppes_credentials\n",
    "       - nppes_provider_gender\n",
    "       - nppes_entity_code\n",
    "       - nppes_provider_street1\n",
    "       - nppes_provider_street2\n",
    "       - nppes_provider_city\n",
    "       - nppes_provider_zip\n",
    "       - nppes_provider_state\n",
    "       - nppes_provider_country\n",
    "       - provider_type\n",
    "       - medicare_participation_indicator\n",
    "       - place_of_service\n",
    "       - hcpcs_code\n",
    "       - hcpcs_description\n",
    "       - hcpcs_drug_indicator\n",
    "       - line_srvc_cnt\n",
    "       - bene_unique_cnt\n",
    "       - bene_day_srvc_cnt\n",
    "       - average_Medicare_allowed_amt\n",
    "       - average_submitted_chrg_amt\n",
    "       - average_Medicare_payment_amt\n",
    "       - average_Medicare_standard_amt\n",
    "<b>outpatient</b><br>\n",
    "    - Contains provider name and contact info, procedures and costs\n",
    "    - Joinability: 'Zip' is common field with cbsa and providers\n",
    "    - Fields:\n",
    "        - Provider ID\n",
    "        - Provider Name\n",
    "        - Provider Street Address\n",
    "        - Provider City\n",
    "        - Provider\\nState\n",
    "        - Provider\\nZip Code\n",
    "        - Provider\\nHospital Referral Region\\n(HRR)\n",
    "        - APC\n",
    "        - APC\\nDescription\n",
    "        - Beneficiaries\n",
    "        - Comprehensive APC\\nServices\n",
    "        - Average\\nEstimated\\nTotal\\nSubmitted\\nCharges\n",
    "        - Average\\nMedicare\\nAllowed\\nAmount\n",
    "        - Average\\nMedicare\\nPayment\\nAmount\n",
    "        - Outlier\\nComprehensive\\nAPC\\nServices\n",
    "        - Average\\nMedicare\\nOutlier\\nAmount\n",
    "<b>classifications</b><br>\n",
    "    - Contains classification info about each procedure\n",
    "    - Joinability: 'HPCS Code' is common field with providers\n",
    "    - Fields:\n",
    "        - HCPCS Code\n",
    "        - Short Descriptor\n",
    "        - SI\n",
    "        - APC\n",
    "        - Relative Weight\n",
    "        - Payment Rate\n",
    "        - National Unadjusted Copayment\n",
    "        - Minimum Unadjusted Copayment\n",
    "        - Column1\n",
    "        - Column2\n",
    "        - Column3\n",
    "        - Unnamed: 8\n",
    "        - Unnamed: 9\n",
    "        - Unnamed: 10\n",
    "<b>cbsa</b><br>\n",
    "    - Contains Zip Code and Core Based Statistical Area (CBSA) data\n",
    "    - Joinability: 'Zip' is common field with classifications and providers\n",
    "    - Fields:\n",
    "        - ZIP\n",
    "        - CBSA\n",
    "        - RES_RATIO\n",
    "        - BUS_RATIO\n",
    "        - OTH_RATIO\n",
    "        - TOT_RATIO\n",
    "    - What's this used for, do we need it? \n",
    "\n",
    "\n",
    "## These common fields can be used for joins\n",
    "<b>HCPCS Code:</b> providers, classifications<br>\n",
    "<b>Zip:</b> cbsa, outpatient, providers<br>\n",
    "<b>Provider ID:</b> outpatient\n",
    "\n",
    "## Potential things to look at\n",
    "- <b>sort by Zip Code:</b>\n",
    "    - what procedures are more popular in which locations?\n",
    "    - which providers provide which procedures?\n",
    "    - what's the average cost per zip code?\n",
    "- <b>sort by Procedure:</b>\n",
    "    - what's the average cost per procedure?\n",
    "    - which procedures outpatient/inpatient?"
   ]
  },
  {
   "cell_type": "code",
   "execution_count": null,
   "metadata": {},
   "outputs": [],
   "source": []
  },
  {
   "cell_type": "code",
   "execution_count": null,
   "metadata": {},
   "outputs": [],
   "source": []
  }
 ],
 "metadata": {
  "kernelspec": {
   "display_name": "Python 3",
   "language": "python",
   "name": "python3"
  },
  "language_info": {
   "codemirror_mode": {
    "name": "ipython",
    "version": 3
   },
   "file_extension": ".py",
   "mimetype": "text/x-python",
   "name": "python",
   "nbconvert_exporter": "python",
   "pygments_lexer": "ipython3",
   "version": "3.7.4"
  }
 },
 "nbformat": 4,
 "nbformat_minor": 2
}
