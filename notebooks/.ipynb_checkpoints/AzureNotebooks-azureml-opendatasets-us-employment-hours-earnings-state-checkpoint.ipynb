{
 "cells": [
  {
   "cell_type": "code",
   "execution_count": 2,
   "metadata": {},
   "outputs": [
    {
     "name": "stdout",
     "output_type": "stream",
     "text": [
      "ActivityStarted, to_pandas_dataframe\n",
      "ActivityStarted, to_pandas_dataframe_in_worker\n",
      "Looking for parquet files...\n",
      "Reading them into Pandas dataframe...\n",
      "Reading ehe_state/part-00000-tid-4584292525148687084-3a752bd7-c4a5-4be5-a63b-8293d5b83692-8930-1-c000.snappy.parquet under container laborstatisticscontainer\n",
      "Done.\n",
      "ActivityCompleted: Activity=to_pandas_dataframe_in_worker, HowEnded=Success, Duration=24771.26 [ms]\n",
      "ActivityCompleted: Activity=to_pandas_dataframe, HowEnded=Success, Duration=24804.03 [ms]\n"
     ]
    }
   ],
   "source": [
    "# This is a package in preview.\n",
    "from azureml.opendatasets import UsLaborEHEState\n",
    "\n",
    "usLaborEHEState = UsLaborEHEState()\n",
    "usLaborEHEState_df = usLaborEHEState.to_pandas_dataframe()"
   ]
  },
  {
   "cell_type": "code",
   "execution_count": 3,
   "metadata": {},
   "outputs": [
    {
     "name": "stdout",
     "output_type": "stream",
     "text": [
      "<class 'pandas.core.frame.DataFrame'>\n",
      "RangeIndex: 8065684 entries, 0 to 8065683\n",
      "Data columns (total 16 columns):\n",
      "area_code           object\n",
      "state_code          object\n",
      "data_type_code      object\n",
      "industry_code       object\n",
      "supersector_code    object\n",
      "series_id           object\n",
      "year                int32\n",
      "period              object\n",
      "value               float32\n",
      "footnote_codes      object\n",
      "seasonal            object\n",
      "supersector_name    object\n",
      "industry_name       object\n",
      "data_type_text      object\n",
      "state_name          object\n",
      "area_name           object\n",
      "dtypes: float32(1), int32(1), object(14)\n",
      "memory usage: 923.0+ MB\n"
     ]
    }
   ],
   "source": [
    "usLaborEHEState_df.info()"
   ]
  },
  {
   "cell_type": "code",
   "execution_count": null,
   "metadata": {},
   "outputs": [],
   "source": [
    "usLaborEHEState_df.head()\n"
   ]
  },
  {
   "cell_type": "code",
   "execution_count": null,
   "metadata": {},
   "outputs": [],
   "source": []
  }
 ],
 "metadata": {
  "kernelspec": {
   "display_name": "Python 3",
   "language": "python",
   "name": "python3"
  },
  "language_info": {
   "codemirror_mode": {
    "name": "ipython",
    "version": 3
   },
   "file_extension": ".py",
   "mimetype": "text/x-python",
   "name": "python",
   "nbconvert_exporter": "python",
   "pygments_lexer": "ipython3",
   "version": "3.6.7"
  },
  "name": "LaborEHEState",
  "notebookId": 835768151658800
 },
 "nbformat": 4,
 "nbformat_minor": 1
}
