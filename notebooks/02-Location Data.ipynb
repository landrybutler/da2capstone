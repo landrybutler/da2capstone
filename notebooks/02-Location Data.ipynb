{
 "cells": [
  {
   "cell_type": "markdown",
   "metadata": {},
   "source": [
    "# Note: this notebook requires CartoFrames environment\n",
    "- conda activate cartoframes_env"
   ]
  },
  {
   "cell_type": "code",
   "execution_count": 1,
   "metadata": {},
   "outputs": [
    {
     "name": "stdout",
     "output_type": "stream",
     "text": [
      "<class 'pandas.core.frame.DataFrame'>\n",
      "RangeIndex: 191227 entries, 0 to 191226\n",
      "Data columns (total 39 columns):\n",
      " #   Column                                      Non-Null Count   Dtype  \n",
      "---  ------                                      --------------   -----  \n",
      " 0   Unnamed: 0                                  191227 non-null  int64  \n",
      " 1   Unnamed: 0.1                                191227 non-null  int64  \n",
      " 2   provider_id                                 417 non-null     float64\n",
      " 3   provider_name                               417 non-null     object \n",
      " 4   provider_street_address                     417 non-null     object \n",
      " 5   provider_city                               417 non-null     object \n",
      " 6   provider_state                              417 non-null     object \n",
      " 7   provider_zip_code                           417 non-null     float64\n",
      " 8   provider_hospital_referral_region_(hrr)     417 non-null     object \n",
      " 9   apc                                         417 non-null     float64\n",
      " 10  apc_description                             417 non-null     object \n",
      " 11  beneficiaries                               415 non-null     float64\n",
      " 12  comprehensive_apc_services                  417 non-null     float64\n",
      " 13  average_estimated_total_submitted_charges   417 non-null     float64\n",
      " 14  average_medicare_allowed_amount             417 non-null     float64\n",
      " 15  average_medicare_payment_amount             417 non-null     float64\n",
      " 16  outlier_comprehensive_apc_services          368 non-null     float64\n",
      " 17  average_medicare_outlier_amount             368 non-null     float64\n",
      " 18  zip                                         191227 non-null  int64  \n",
      " 19  cbsa                                        191227 non-null  int64  \n",
      " 20  res_ratio                                   191227 non-null  float64\n",
      " 21  bus_ratio                                   191227 non-null  float64\n",
      " 22  oth_ratio                                   191227 non-null  float64\n",
      " 23  tot_ratio                                   191227 non-null  float64\n",
      " 24  cbsa_code                                   191227 non-null  float64\n",
      " 25  metropolitan_division_code                  68060 non-null   float64\n",
      " 26  csa_code                                    166470 non-null  float64\n",
      " 27  cbsa_title                                  191227 non-null  object \n",
      " 28  metropolitan/micropolitan_statistical_area  191227 non-null  object \n",
      " 29  metropolitan_division_title                 191227 non-null  object \n",
      " 30  csa_title                                   68060 non-null   object \n",
      " 31  county/county_equivalent                    166470 non-null  object \n",
      " 32  state_name                                  191227 non-null  object \n",
      " 33  fips_state_code                             191227 non-null  object \n",
      " 34  fips_county_code                            191227 non-null  object \n",
      " 35  central/outlying_county                     191227 non-null  object \n",
      " 36  columnm                                     191227 non-null  object \n",
      " 37  columnn                                     166470 non-null  object \n",
      " 38  columno                                     68060 non-null   object \n",
      "dtypes: float64(17), int64(4), object(18)\n",
      "memory usage: 56.9+ MB\n",
      "None\n"
     ]
    }
   ],
   "source": [
    "#Import libraries and data, set up dataframes\n",
    "from shapely.geometry import Point\n",
    "import pandas as pd\n",
    "import geopandas as gpd\n",
    "import matplotlib.pyplot as plt\n",
    "import folium\n",
    "from folium.plugins import MarkerCluster\n",
    "from folium.plugins import FastMarkerCluster\n",
    "\n",
    "# Setup filename variables\n",
    "outpatient_csv = '../data/outpatient_cbsa_clean.csv'\n",
    "\n",
    "# import files to dataframes\n",
    "outpatient = pd.read_csv(outpatient_csv, low_memory=False)\n",
    "\n",
    "# Verify imports\n",
    "print(outpatient.info())\n",
    "\n",
    "#############\n",
    "# DEBUGDEBUG: These commented out for now, will need cleaning later\n",
    "# agi_by_state_2017_csv = '../data/agi_by_state_2017_clean.csv'\n",
    "# agi_by_zip_2017_csv = '../data/agi_by_zip_2017_clean.csv'\n",
    "#\n",
    "# agi_by_state_2017 = pd.read_csv(agi_by_state_2017_csv)\n",
    "# agi_by_zip_2017 = pd.read_csv(agi_by_zip_2017_csv)\n",
    "# agi_by_zip_2017.head( )\n",
    "#\n",
    "# print(agi_by_state_2017.info())\n",
    "# print(agi_by_zip_2017.info())\n"
   ]
  },
  {
   "cell_type": "code",
   "execution_count": 2,
   "metadata": {},
   "outputs": [
    {
     "name": "stdout",
     "output_type": "stream",
     "text": [
      "<class 'pandas.core.frame.DataFrame'>\n",
      "Int64Index: 56 entries, 0 to 5345\n",
      "Data columns (total 4 columns):\n",
      " #   Column                   Non-Null Count  Dtype  \n",
      "---  ------                   --------------  -----  \n",
      " 0   provider_street_address  56 non-null     object \n",
      " 1   provider_city            56 non-null     object \n",
      " 2   provider_state           56 non-null     object \n",
      " 3   provider_zip_code        56 non-null     float64\n",
      "dtypes: float64(1), object(3)\n",
      "memory usage: 2.2+ KB\n"
     ]
    }
   ],
   "source": [
    "#Export addresses for geocoding\n",
    "asc_addresses = outpatient[['provider_street_address','provider_city','provider_state','provider_zip_code']]\n",
    "asc_addresses = asc_addresses.dropna()\n",
    "asc_addresses = asc_addresses.drop_duplicates(keep='first')\n",
    "asc_addresses.info()"
   ]
  },
  {
   "cell_type": "code",
   "execution_count": 3,
   "metadata": {},
   "outputs": [],
   "source": [
    "asc_addresses.to_csv('../data/location/asc_addresses_clean.csv')\n"
   ]
  },
  {
   "cell_type": "code",
   "execution_count": 4,
   "metadata": {},
   "outputs": [
    {
     "ename": "NameError",
     "evalue": "name 'geocodes' is not defined",
     "output_type": "error",
     "traceback": [
      "\u001b[0;31m---------------------------------------------------------------------------\u001b[0m",
      "\u001b[0;31mNameError\u001b[0m                                 Traceback (most recent call last)",
      "\u001b[0;32m<ipython-input-4-b5e4bb221bd3>\u001b[0m in \u001b[0;36m<module>\u001b[0;34m\u001b[0m\n\u001b[0;32m----> 1\u001b[0;31m \u001b[0mprint\u001b[0m\u001b[0;34m(\u001b[0m\u001b[0mgeocodes\u001b[0m\u001b[0;34m.\u001b[0m\u001b[0mcrs\u001b[0m\u001b[0;34m)\u001b[0m\u001b[0;34m\u001b[0m\u001b[0;34m\u001b[0m\u001b[0m\n\u001b[0m\u001b[1;32m      2\u001b[0m \u001b[0mgeocodes\u001b[0m\u001b[0;34m.\u001b[0m\u001b[0minfo\u001b[0m\u001b[0;34m(\u001b[0m\u001b[0;34m)\u001b[0m\u001b[0;34m\u001b[0m\u001b[0;34m\u001b[0m\u001b[0m\n",
      "\u001b[0;31mNameError\u001b[0m: name 'geocodes' is not defined"
     ]
    }
   ],
   "source": [
    "print(geocodes.crs)\n",
    "geocodes.info()\n"
   ]
  },
  {
   "cell_type": "code",
   "execution_count": null,
   "metadata": {},
   "outputs": [],
   "source": [
    "geocodes.plot()"
   ]
  },
  {
   "cell_type": "code",
   "execution_count": null,
   "metadata": {},
   "outputs": [],
   "source": []
  },
  {
   "cell_type": "markdown",
   "metadata": {},
   "source": [
    "## NOTE: geocodes dataframe is set up and saved. In order to import later:\n",
    "\n",
    "### Setup filename variables\n",
    "geocodes_csv = '../data/location/asc_geocode_results.geojson'\n",
    "\n",
    "### import files to dataframes\n",
    "geocodes = gpd.read_file(geocodes_csv)\n",
    "\n",
    "### verify import\n",
    "print(geocodes.info())\n"
   ]
  },
  {
   "cell_type": "code",
   "execution_count": null,
   "metadata": {},
   "outputs": [],
   "source": []
  },
  {
   "cell_type": "code",
   "execution_count": null,
   "metadata": {},
   "outputs": [],
   "source": []
  },
  {
   "cell_type": "code",
   "execution_count": null,
   "metadata": {},
   "outputs": [],
   "source": []
  },
  {
   "cell_type": "code",
   "execution_count": null,
   "metadata": {},
   "outputs": [],
   "source": []
  },
  {
   "cell_type": "code",
   "execution_count": null,
   "metadata": {},
   "outputs": [],
   "source": []
  },
  {
   "cell_type": "code",
   "execution_count": null,
   "metadata": {},
   "outputs": [],
   "source": []
  },
  {
   "cell_type": "code",
   "execution_count": null,
   "metadata": {},
   "outputs": [],
   "source": []
  }
 ],
 "metadata": {
  "kernelspec": {
   "display_name": "Python 3",
   "language": "python",
   "name": "python3"
  },
  "language_info": {
   "codemirror_mode": {
    "name": "ipython",
    "version": 3
   },
   "file_extension": ".py",
   "mimetype": "text/x-python",
   "name": "python",
   "nbconvert_exporter": "python",
   "pygments_lexer": "ipython3",
   "version": "3.7.6"
  }
 },
 "nbformat": 4,
 "nbformat_minor": 2
}
